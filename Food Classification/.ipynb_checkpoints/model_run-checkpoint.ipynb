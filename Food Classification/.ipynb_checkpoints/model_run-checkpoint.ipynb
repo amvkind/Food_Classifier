{
 "cells": [
  {
   "cell_type": "code",
   "execution_count": 1,
   "metadata": {
    "colab": {
     "base_uri": "https://localhost:8080/",
     "height": 35
    },
    "colab_type": "code",
    "collapsed": false,
    "executionInfo": {
     "elapsed": 804,
     "status": "ok",
     "timestamp": 1553984360201,
     "user": {
      "displayName": "Hrishikesh Vaidya",
      "photoUrl": "https://lh5.googleusercontent.com/-lTuMJ3Dve84/AAAAAAAAAAI/AAAAAAAAccg/nojkPARqHAI/s64/photo.jpg",
      "userId": "01828931953708279618"
     },
     "user_tz": -330
    },
    "id": "fhacjqNNinKy",
    "outputId": "efad5721-19bf-4788-e323-7cd59f6250b1"
   },
   "outputs": [
    {
     "name": "stdout",
     "output_type": "stream",
     "text": [
      "Drive already mounted at /content/drive; to attempt to forcibly remount, call drive.mount(\"/content/drive\", force_remount=True).\n"
     ]
    }
   ],
   "source": [
    "from google.colab import drive\n",
    "drive.mount('/content/drive')\n"
   ]
  },
  {
   "cell_type": "code",
   "execution_count": 2,
   "metadata": {
    "colab": {
     "base_uri": "https://localhost:8080/",
     "height": 35
    },
    "colab_type": "code",
    "collapsed": false,
    "executionInfo": {
     "elapsed": 948,
     "status": "ok",
     "timestamp": 1553984362571,
     "user": {
      "displayName": "Hrishikesh Vaidya",
      "photoUrl": "https://lh5.googleusercontent.com/-lTuMJ3Dve84/AAAAAAAAAAI/AAAAAAAAccg/nojkPARqHAI/s64/photo.jpg",
      "userId": "01828931953708279618"
     },
     "user_tz": -330
    },
    "id": "23ShETLMiudR",
    "outputId": "570aa904-9a09-45a9-d181-ab2c51fe4db9"
   },
   "outputs": [
    {
     "name": "stdout",
     "output_type": "stream",
     "text": [
      "/content/drive/My Drive/Google Colab/Food Classifier\n"
     ]
    }
   ],
   "source": [
    "cd /content/drive/My Drive/Colab Notebooks/"
   ]
  },
  {
   "cell_type": "code",
   "execution_count": 0,
   "metadata": {
    "colab": {},
    "colab_type": "code",
    "collapsed": true,
    "id": "ZuOpwzPWi2Rh"
   },
   "outputs": [],
   "source": [
    "from tensorflow.keras.models import load_model, Sequential\n",
    "from tensorflow.keras.layers import Dense"
   ]
  },
  {
   "cell_type": "code",
   "execution_count": 0,
   "metadata": {
    "colab": {},
    "colab_type": "code",
    "collapsed": true,
    "id": "7MF2PEupjZ3E"
   },
   "outputs": [],
   "source": [
    "from tensorflow.keras.applications import vgg16\n",
    "weights_model = r'/content/drive/My Drive/Colab Notebooks/Saved Models_Weights/food_model_weights.h5'"
   ]
  },
  {
   "cell_type": "code",
   "execution_count": 5,
   "metadata": {
    "colab": {
     "base_uri": "https://localhost:8080/",
     "height": 92
    },
    "colab_type": "code",
    "collapsed": false,
    "executionInfo": {
     "elapsed": 4410,
     "status": "ok",
     "timestamp": 1553984372050,
     "user": {
      "displayName": "Hrishikesh Vaidya",
      "photoUrl": "https://lh5.googleusercontent.com/-lTuMJ3Dve84/AAAAAAAAAAI/AAAAAAAAccg/nojkPARqHAI/s64/photo.jpg",
      "userId": "01828931953708279618"
     },
     "user_tz": -330
    },
    "id": "aia0eGE-jhsV",
    "outputId": "7859337f-df33-4bfb-a7e9-1322a9e7c627"
   },
   "outputs": [
    {
     "name": "stdout",
     "output_type": "stream",
     "text": [
      "WARNING:tensorflow:From /usr/local/lib/python3.6/dist-packages/tensorflow/python/ops/resource_variable_ops.py:435: colocate_with (from tensorflow.python.framework.ops) is deprecated and will be removed in a future version.\n",
      "Instructions for updating:\n",
      "Colocations handled automatically by placer.\n"
     ]
    }
   ],
   "source": [
    "vgg_model = vgg16.VGG16()\n",
    "\n",
    "model = Sequential()\n",
    "\n",
    "for layer in vgg_model.layers[:-1]:\n",
    "  model.add(layer)\n",
    "  \n",
    "for layer in model.layers:\n",
    "  layer.trainable=False\n",
    "  \n",
    "  \n",
    "model.add(Dense(15, activation='softmax'))"
   ]
  },
  {
   "cell_type": "code",
   "execution_count": 0,
   "metadata": {
    "colab": {},
    "colab_type": "code",
    "collapsed": true,
    "id": "kTi63ouGrCKi"
   },
   "outputs": [],
   "source": [
    "model.load_weights(weights_model)"
   ]
  },
  {
   "cell_type": "code",
   "execution_count": 8,
   "metadata": {
    "colab": {
     "base_uri": "https://localhost:8080/",
     "height": 53
    },
    "colab_type": "code",
    "collapsed": false,
    "executionInfo": {
     "elapsed": 4081,
     "status": "ok",
     "timestamp": 1553984715225,
     "user": {
      "displayName": "Hrishikesh Vaidya",
      "photoUrl": "https://lh5.googleusercontent.com/-lTuMJ3Dve84/AAAAAAAAAAI/AAAAAAAAccg/nojkPARqHAI/s64/photo.jpg",
      "userId": "01828931953708279618"
     },
     "user_tz": -330
    },
    "id": "9c5VIFkwsDct",
    "outputId": "7ca1aacf-496f-4e65-adad-87ddf7454b94"
   },
   "outputs": [
    {
     "name": "stdout",
     "output_type": "stream",
     "text": [
      "Waffles\n"
     ]
    },
    {
     "data": {
      "text/plain": [
       "14"
      ]
     },
     "execution_count": 8,
     "metadata": {
      "tags": []
     },
     "output_type": "execute_result"
    }
   ],
   "source": [
    "import os\n",
    "import numpy as np\n",
    "from keras.preprocessing.image import ImageDataGenerator, load_img, img_to_array\n",
    "from keras.models import Sequential, load_model\n",
    "\n",
    "#Define Path\n",
    "test_path = '/content/drive/My Drive/Colab Notebooks/Final Testing Data/pizza.jpg'\n",
    "\n",
    "#Define image parameters\n",
    "img_width, img_height = 224, 224\n",
    "\n",
    "#Prediction Function\n",
    "def predict(file):\n",
    "  x = load_img(file, target_size=(img_width,img_height))\n",
    "  x = img_to_array(x)\n",
    "  x = np.expand_dims(x, axis=0)\n",
    "  array = model.predict(x)\n",
    "  result = array[0]\n",
    "  #print(result)\n",
    "  answer = np.argmax(result)\n",
    "  if answer == 0:\n",
    "    print(\"Chicken Curry\")\n",
    "  elif answer == 1:\n",
    "    print(\"Donuts\")\n",
    "  elif answer == 2:\n",
    "    print(\"French Fries\")\n",
    "  elif answer == 3:\n",
    "    print(\"Fried Rice\")\n",
    "  elif answer == 4:\n",
    "    print(\"Frozen Yogurt\")\n",
    "  elif answer == 5:\n",
    "    print(\"Garlic Bread\")\n",
    "  elif answer == 6:\n",
    "    print(\"Hamburger\")\n",
    "  elif answer == 7:\n",
    "    print(\"Hot and Sour Soup\")\n",
    "  elif answer == 8:\n",
    "    print(\"Hot Dog\")\n",
    "  elif answer == 9:\n",
    "    print(\"Ice Cream\")\n",
    "  elif answer == 10:\n",
    "    print(\"Omellete\")\n",
    "  elif answer == 11:\n",
    "    print(\"Pizza\")\n",
    "  elif answer == 12:\n",
    "    print(\"Samosa\")\n",
    "  elif answer == 13:\n",
    "    print(\"Sushi\")\n",
    "  elif answer == 14:\n",
    "    print(\"Waffles\")\n",
    "  return answer\n",
    "\n",
    "\n",
    "predict(test_path)"
   ]
  },
  {
   "cell_type": "code",
   "execution_count": 0,
   "metadata": {
    "colab": {},
    "colab_type": "code",
    "collapsed": true,
    "id": "pFlh7cp3sQ5x"
   },
   "outputs": [],
   "source": []
  }
 ],
 "metadata": {
  "accelerator": "GPU",
  "colab": {
   "name": "model_run.ipynb",
   "provenance": [],
   "version": "0.3.2"
  },
  "kernelspec": {
   "display_name": "Python 3",
   "language": "python",
   "name": "python3"
  },
  "language_info": {
   "codemirror_mode": {
    "name": "ipython",
    "version": 3
   },
   "file_extension": ".py",
   "mimetype": "text/x-python",
   "name": "python",
   "nbconvert_exporter": "python",
   "pygments_lexer": "ipython3",
   "version": "3.6.0"
  }
 },
 "nbformat": 4,
 "nbformat_minor": 0
}
