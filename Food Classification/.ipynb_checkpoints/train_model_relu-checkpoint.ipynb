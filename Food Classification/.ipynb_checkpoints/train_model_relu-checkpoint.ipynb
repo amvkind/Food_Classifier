{
 "cells": [
  {
   "cell_type": "code",
   "execution_count": 0,
   "metadata": {
    "colab": {},
    "colab_type": "code",
    "collapsed": true,
    "id": "f1GpAtDkDaeC"
   },
   "outputs": [],
   "source": [
    "from google.colab import drive"
   ]
  },
  {
   "cell_type": "code",
   "execution_count": 2,
   "metadata": {
    "colab": {
     "base_uri": "https://localhost:8080/",
     "height": 35
    },
    "colab_type": "code",
    "collapsed": false,
    "executionInfo": {
     "elapsed": 121,
     "status": "ok",
     "timestamp": 1553940322843,
     "user": {
      "displayName": "Hrishikesh Vaidya",
      "photoUrl": "https://lh5.googleusercontent.com/-lTuMJ3Dve84/AAAAAAAAAAI/AAAAAAAAccg/nojkPARqHAI/s64/photo.jpg",
      "userId": "01828931953708279618"
     },
     "user_tz": -330
    },
    "id": "bE6Gr1RmDtTl",
    "outputId": "13b9698f-890a-4949-e4c1-3fc8552a37a0"
   },
   "outputs": [
    {
     "name": "stdout",
     "output_type": "stream",
     "text": [
      "Drive already mounted at /content/drive; to attempt to forcibly remount, call drive.mount(\"/content/drive\", force_remount=True).\n"
     ]
    }
   ],
   "source": [
    "drive.mount('/content/drive')"
   ]
  },
  {
   "cell_type": "code",
   "execution_count": 3,
   "metadata": {
    "colab": {
     "base_uri": "https://localhost:8080/",
     "height": 35
    },
    "colab_type": "code",
    "collapsed": false,
    "executionInfo": {
     "elapsed": 15104,
     "status": "ok",
     "timestamp": 1553940339916,
     "user": {
      "displayName": "Hrishikesh Vaidya",
      "photoUrl": "https://lh5.googleusercontent.com/-lTuMJ3Dve84/AAAAAAAAAAI/AAAAAAAAccg/nojkPARqHAI/s64/photo.jpg",
      "userId": "01828931953708279618"
     },
     "user_tz": -330
    },
    "id": "65w3u32mDwuP",
    "outputId": "bbad5d5f-d05f-45cc-830a-a4d28fc01c5f"
   },
   "outputs": [
    {
     "name": "stdout",
     "output_type": "stream",
     "text": [
      "/content/drive/My Drive/Google Colab/Food Classifier\n"
     ]
    }
   ],
   "source": [
    "cd /content/drive/My Drive/Google Colab/Food Classifier"
   ]
  },
  {
   "cell_type": "code",
   "execution_count": 0,
   "metadata": {
    "colab": {},
    "colab_type": "code",
    "collapsed": true,
    "id": "kLjnhHGFD3n8"
   },
   "outputs": [],
   "source": [
    "from tensorflow.keras import applications\n",
    "\n",
    "from tensorflow.keras.preprocessing.image import ImageDataGenerator\n",
    "\n",
    "from tensorflow.keras import optimizers\n",
    "from tensorflow.keras.models import Sequential, Model\n",
    "from tensorflow.keras.layers import (Dropout, Flatten, Dense, Conv2D, \n",
    "                          Activation, MaxPooling2D)\n",
    "\n",
    "# from keras_tqdm import TQDMNotebookCallback\n",
    "\n",
    "import os, glob\n",
    "# from tqdm import tqdm\n",
    "import pandas as pd\n",
    "import numpy as np\n",
    "import shutil"
   ]
  },
  {
   "cell_type": "code",
   "execution_count": 0,
   "metadata": {
    "colab": {},
    "colab_type": "code",
    "collapsed": true,
    "id": "F_KZooO_EIc1"
   },
   "outputs": [],
   "source": [
    "img_width, img_height = 150,150\n",
    "\n",
    "train_data_dir = r'/content/drive/My Drive/Google Colab/Food Classifier/train_images'\n",
    "validation_data_dir = r'/content/drive/My Drive/Google Colab/Food Classifier/test_images'\n",
    "epochs = 10\n",
    "batch_size = 128"
   ]
  },
  {
   "cell_type": "code",
   "execution_count": 6,
   "metadata": {
    "colab": {
     "base_uri": "https://localhost:8080/",
     "height": 146
    },
    "colab_type": "code",
    "collapsed": false,
    "executionInfo": {
     "elapsed": 1875,
     "status": "ok",
     "timestamp": 1553940697381,
     "user": {
      "displayName": "Hrishikesh Vaidya",
      "photoUrl": "https://lh5.googleusercontent.com/-lTuMJ3Dve84/AAAAAAAAAAI/AAAAAAAAccg/nojkPARqHAI/s64/photo.jpg",
      "userId": "01828931953708279618"
     },
     "user_tz": -330
    },
    "id": "zKxILKuVEakY",
    "outputId": "bc677e44-4518-4bda-ba12-a18a445db943"
   },
   "outputs": [
    {
     "name": "stdout",
     "output_type": "stream",
     "text": [
      "WARNING:tensorflow:From /usr/local/lib/python3.6/dist-packages/tensorflow/python/ops/resource_variable_ops.py:435: colocate_with (from tensorflow.python.framework.ops) is deprecated and will be removed in a future version.\n",
      "Instructions for updating:\n",
      "Colocations handled automatically by placer.\n",
      "WARNING:tensorflow:From /usr/local/lib/python3.6/dist-packages/tensorflow/python/keras/layers/core.py:143: calling dropout (from tensorflow.python.ops.nn_ops) with keep_prob is deprecated and will be removed in a future version.\n",
      "Instructions for updating:\n",
      "Please use `rate` instead of `keep_prob`. Rate should be set to `rate = 1 - keep_prob`.\n"
     ]
    }
   ],
   "source": [
    "model = Sequential()\n",
    "\n",
    "model.add(Conv2D(32, (3, 3), input_shape=(150, 150, 3)))\n",
    "model.add(Activation('relu')) #tanh\n",
    "model.add(MaxPooling2D(pool_size=(2, 2)))\n",
    "model.add(Dropout(0.5))\n",
    "\n",
    "model.add(Conv2D(32, (3, 3)))\n",
    "model.add(Activation('relu')) #tanh\n",
    "model.add(MaxPooling2D(pool_size=(2, 2)))\n",
    "model.add(Dropout(0.5))\n",
    "\n",
    "model.add(Conv2D(64, (3, 3)))\n",
    "model.add(Activation('relu'))\n",
    "model.add(MaxPooling2D(pool_size=(2, 2)))\n",
    "model.add(Dropout(0.5))\n",
    "\n",
    "model.add(Flatten())\n",
    "model.add(Dense(96))\n",
    "model.add(Activation('relu'))\n",
    "model.add(Dropout(0.5))\n",
    "model.add(Dense(15)) # binary\n",
    "model.add(Activation('softmax'))\n",
    "\n",
    "model.compile(loss='categorical_crossentropy',\n",
    "              optimizer='adam',\n",
    "              metrics=['accuracy'])"
   ]
  },
  {
   "cell_type": "code",
   "execution_count": 10,
   "metadata": {
    "colab": {
     "base_uri": "https://localhost:8080/",
     "height": 53
    },
    "colab_type": "code",
    "collapsed": false,
    "executionInfo": {
     "elapsed": 14701,
     "status": "ok",
     "timestamp": 1553940973640,
     "user": {
      "displayName": "Hrishikesh Vaidya",
      "photoUrl": "https://lh5.googleusercontent.com/-lTuMJ3Dve84/AAAAAAAAAAI/AAAAAAAAccg/nojkPARqHAI/s64/photo.jpg",
      "userId": "01828931953708279618"
     },
     "user_tz": -330
    },
    "id": "_Jj5L8xMFUfI",
    "outputId": "3ae425b6-0282-4ffc-fafa-0413b043b213"
   },
   "outputs": [
    {
     "name": "stdout",
     "output_type": "stream",
     "text": [
      "Found 11250 images belonging to 15 classes.\n",
      "Found 3750 images belonging to 15 classes.\n"
     ]
    }
   ],
   "source": [
    "train_datagen = ImageDataGenerator(\n",
    "    rescale = 1. / 255,\n",
    "    shear_range = 0.2,\n",
    "    zoom_range = 0.2,\n",
    "    horizontal_flip=False)\n",
    "\n",
    "test_datagen = ImageDataGenerator(rescale=1. / 255)\n",
    "\n",
    "train_generator = train_datagen.flow_from_directory(\n",
    "    train_data_dir,\n",
    "    target_size=(img_width, img_height),\n",
    "    batch_size=batch_size,\n",
    "    class_mode='categorical')\n",
    "\n",
    "validation_generator = test_datagen.flow_from_directory(\n",
    "    validation_data_dir,\n",
    "    target_size=(img_width, img_height),\n",
    "    batch_size=batch_size,\n",
    "    class_mode='categorical')"
   ]
  },
  {
   "cell_type": "code",
   "execution_count": 0,
   "metadata": {
    "colab": {
     "base_uri": "https://localhost:8080/",
     "height": 53
    },
    "colab_type": "code",
    "collapsed": false,
    "id": "BEQPU7b3FvpH",
    "outputId": "0882f748-99a6-49cd-e1b7-cf0cd822bf31"
   },
   "outputs": [
    {
     "name": "stdout",
     "output_type": "stream",
     "text": [
      "Epoch 1/10\n",
      "59/88 [===================>..........] - ETA: 19:18 - loss: 2.7146 - acc: 0.0641"
     ]
    }
   ],
   "source": [
    "model.fit_generator(\n",
    "    train_generator,\n",
    "    steps_per_epoch = 20000//16,\n",
    "    epochs = epochs,\n",
    "    validation_data = validation_generator,\n",
    "    validation_steps = 3750//16\n",
    "    \n",
    "    )"
   ]
  },
  {
   "cell_type": "code",
   "execution_count": 0,
   "metadata": {
    "colab": {},
    "colab_type": "code",
    "collapsed": true,
    "id": "jTmb63FqF55R"
   },
   "outputs": [],
   "source": []
  }
 ],
 "metadata": {
  "accelerator": "GPU",
  "colab": {
   "name": "train_model.ipynb",
   "provenance": [],
   "version": "0.3.2"
  },
  "kernelspec": {
   "display_name": "Python 3",
   "language": "python",
   "name": "python3"
  },
  "language_info": {
   "codemirror_mode": {
    "name": "ipython",
    "version": 3
   },
   "file_extension": ".py",
   "mimetype": "text/x-python",
   "name": "python",
   "nbconvert_exporter": "python",
   "pygments_lexer": "ipython3",
   "version": "3.6.0"
  }
 },
 "nbformat": 4,
 "nbformat_minor": 0
}
